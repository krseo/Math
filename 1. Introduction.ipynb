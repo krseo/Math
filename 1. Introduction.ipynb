{
 "metadata": {
  "name": "",
  "signature": "sha256:4acbbfa496d1f2d8c2c5f132687fab366e41c6241efb32c232d383eec3e76abc"
 },
 "nbformat": 3,
 "nbformat_minor": 0,
 "worksheets": [
  {
   "cells": [
    {
     "cell_type": "markdown",
     "metadata": {},
     "source": [
      "This is Introduction of Math\n",
      "\uc751\uc6a9\uc218\ud559 \uac1c\uc694"
     ]
    },
    {
     "cell_type": "code",
     "collapsed": false,
     "input": [
      "a=90\n",
      "b=67\n",
      "a+b"
     ],
     "language": "python",
     "metadata": {},
     "outputs": [
      {
       "metadata": {},
       "output_type": "pyout",
       "prompt_number": 1,
       "text": [
        "157"
       ]
      }
     ],
     "prompt_number": 1
    },
    {
     "cell_type": "code",
     "collapsed": false,
     "input": [],
     "language": "python",
     "metadata": {},
     "outputs": []
    }
   ],
   "metadata": {}
  }
 ]
}